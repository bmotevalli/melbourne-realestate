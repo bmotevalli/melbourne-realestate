{
 "cells": [
  {
   "cell_type": "code",
   "execution_count": 2,
   "id": "69ea52dc-ea4a-4a44-9082-b1febd2e7b59",
   "metadata": {},
   "outputs": [
    {
     "name": "stdout",
     "output_type": "stream",
     "text": [
      "Latitude: -37.8276058, Longitude: 145.0523839\n"
     ]
    }
   ],
   "source": [
    "from geopy.geocoders import Nominatim\n",
    "\n",
    "def get_lat_long(address: str):\n",
    "    # Initialize Nominatim API\n",
    "    geolocator = Nominatim(user_agent=\"house_geocoder\")\n",
    "\n",
    "    # Geocode the address\n",
    "    location = geolocator.geocode(address)\n",
    "\n",
    "    if location:\n",
    "        return location.latitude, location.longitude\n",
    "    else:\n",
    "        return None, None\n",
    "\n",
    "# Example usage\n",
    "# address = \"Melbourne, VIC\"\n",
    "# address = \"21 Stockdale Ave, Clayton, 3168, VIC\"\n",
    "address = \"102 Camberwell Rd, Hawthorn East, VIC\"\n",
    "latitude, longitude = get_lat_long(address)\n",
    "\n",
    "if latitude and longitude:\n",
    "    print(f\"Latitude: {latitude}, Longitude: {longitude}\")\n",
    "else:\n",
    "    print(\"Address not found\")\n"
   ]
  },
  {
   "cell_type": "code",
   "execution_count": null,
   "id": "a54911ad-5bbe-4953-af91-824d40710c20",
   "metadata": {},
   "outputs": [],
   "source": []
  }
 ],
 "metadata": {
  "kernelspec": {
   "display_name": "mel-realestate",
   "language": "python",
   "name": "mel-realestate"
  },
  "language_info": {
   "codemirror_mode": {
    "name": "ipython",
    "version": 3
   },
   "file_extension": ".py",
   "mimetype": "text/x-python",
   "name": "python",
   "nbconvert_exporter": "python",
   "pygments_lexer": "ipython3",
   "version": "3.12.6"
  }
 },
 "nbformat": 4,
 "nbformat_minor": 5
}
